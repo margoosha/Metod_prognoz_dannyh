{
 "cells": [
  {
   "cell_type": "markdown",
   "id": "3f1b56a2",
   "metadata": {},
   "source": [
    "# Лабораторная работа №1 "
   ]
  },
  {
   "cell_type": "markdown",
   "id": "5dec7962",
   "metadata": {},
   "source": [
    "## Морозова Маргарита, РИ-481223"
   ]
  },
  {
   "cell_type": "markdown",
   "id": "66696f8a",
   "metadata": {},
   "source": [
    "## Вариант 12"
   ]
  },
  {
   "cell_type": "code",
   "execution_count": 5,
   "id": "1f39b981",
   "metadata": {},
   "outputs": [],
   "source": [
    "import numpy as np\n",
    "import numpy.random as rand\n",
    "import matplotlib.pyplot as plt\n",
    "from pandas.plotting import autocorrelation_plot \n",
    "from statsmodels.graphics.tsaplots import plot_acf\n",
    "import h5py\n",
    "from scipy.stats import skew\n",
    "from scipy.stats import kurtosis\n",
    "%matplotlib inline"
   ]
  },
  {
   "cell_type": "code",
   "execution_count": 6,
   "id": "a52d735a",
   "metadata": {},
   "outputs": [],
   "source": [
    "X = rand.randn(10000)\n",
    "t = np.linspace(3, 5, num = 10000)"
   ]
  },
  {
   "cell_type": "code",
   "execution_count": 7,
   "id": "8e5f3d98",
   "metadata": {},
   "outputs": [
    {
     "data": {
      "text/plain": [
       "[<matplotlib.lines.Line2D at 0x1f02c6be280>]"
      ]
     },
     "execution_count": 7,
     "metadata": {},
     "output_type": "execute_result"
    },
    {
     "data": {
      "image/png": "[encoded data removed]",
      "text/plain": [
       "<Figure size 720x360 with 1 Axes>"
      ]
     },
     "metadata": {
      "needs_background": "light"
     },
     "output_type": "display_data"
    }
   ],
   "source": [
    "plt.figure(figsize= (10, 5)) \n",
    "plt.plot(t, X)"
   ]
  },
  {
   "cell_type": "markdown",
   "id": "b18ed36a",
   "metadata": {},
   "source": [
    "### Находим мат. ожидание данного ВР двумя способами:"
   ]
  },
  {
   "cell_type": "code",
   "execution_count": 8,
   "id": "2bd1bff5",
   "metadata": {},
   "outputs": [
    {
     "name": "stdout",
     "output_type": "stream",
     "text": [
      "0.006641945148642628\n"
     ]
    }
   ],
   "source": [
    "M = np.mean(X)\n",
    "print (M)"
   ]
  },
  {
   "cell_type": "code",
   "execution_count": 9,
   "id": "cafb9cf7",
   "metadata": {},
   "outputs": [
    {
     "name": "stdout",
     "output_type": "stream",
     "text": [
      "0.006641945148642628\n"
     ]
    }
   ],
   "source": [
    "M = 1/10000 * np.sum(X)\n",
    "print (M)"
   ]
  },
  {
   "cell_type": "markdown",
   "id": "3fbdc4a7",
   "metadata": {},
   "source": [
    "Значения мат. ожидания, полученные двумя способами, совпадают."
   ]
  },
  {
   "cell_type": "markdown",
   "id": "40f8ff9c",
   "metadata": {},
   "source": [
    "### Находим дисперсию данного ВР двумя способами:"
   ]
  },
  {
   "cell_type": "code",
   "execution_count": 10,
   "id": "851a457f",
   "metadata": {},
   "outputs": [
    {
     "name": "stdout",
     "output_type": "stream",
     "text": [
      "0.9709284851980304\n"
     ]
    }
   ],
   "source": [
    "D = np.var(X)\n",
    "print (D)"
   ]
  },
  {
   "cell_type": "code",
   "execution_count": 11,
   "id": "968116c4",
   "metadata": {},
   "outputs": [
    {
     "name": "stdout",
     "output_type": "stream",
     "text": [
      "0.9709284851980305\n"
     ]
    }
   ],
   "source": [
    "D = 1/10000 * np.sum(pow((X - M), 2))\n",
    "print (D)"
   ]
  },
  {
   "cell_type": "markdown",
   "id": "d9d83408",
   "metadata": {},
   "source": [
    "Значения дисперсии, полученные двумя способами, совпадают."
   ]
  },
  {
   "cell_type": "markdown",
   "id": "cdb65bec",
   "metadata": {},
   "source": [
    "### Находим ассиметрию данного ВР двумя способами:"
   ]
  },
  {
   "cell_type": "code",
   "execution_count": 12,
   "id": "281564d1",
   "metadata": {},
   "outputs": [
    {
     "name": "stdout",
     "output_type": "stream",
     "text": [
      "0.008501722332225977\n"
     ]
    }
   ],
   "source": [
    "A = skew(X)\n",
    "print (A)"
   ]
  },
  {
   "cell_type": "code",
   "execution_count": 13,
   "id": "92056ed4",
   "metadata": {},
   "outputs": [
    {
     "name": "stdout",
     "output_type": "stream",
     "text": [
      "0.008501722332225974\n"
     ]
    }
   ],
   "source": [
    "A =  np.sum(pow((X - M), 3)) / (10000 * pow (D, 1.5))\n",
    "print (A)"
   ]
  },
  {
   "cell_type": "markdown",
   "id": "7f1d41ab",
   "metadata": {},
   "source": [
    "Значения ассиметри, полученные двумя способами, совпадают (с небольшой погрешностью)."
   ]
  },
  {
   "cell_type": "markdown",
   "id": "3a35bb0c",
   "metadata": {},
   "source": [
    "### Находим эксцесс данного ВР двумя способами:"
   ]
  },
  {
   "cell_type": "code",
   "execution_count": 14,
   "id": "2d5dc594",
   "metadata": {},
   "outputs": [
    {
     "name": "stdout",
     "output_type": "stream",
     "text": [
      "3.0609936206589388\n"
     ]
    }
   ],
   "source": [
    "E = kurtosis(X, fisher = False)\n",
    "print (E)"
   ]
  },
  {
   "cell_type": "code",
   "execution_count": 15,
   "id": "1fae6425",
   "metadata": {},
   "outputs": [
    {
     "name": "stdout",
     "output_type": "stream",
     "text": [
      "3.060993620658938\n"
     ]
    }
   ],
   "source": [
    "E = np.sum(pow((X - M), 4)) / (10000 * pow (D, 2))\n",
    "print (E)"
   ]
  },
  {
   "cell_type": "markdown",
   "id": "fd0c72e8",
   "metadata": {},
   "source": [
    "Значения эксцесса, полученные двумя способами, совпадают (с небольшой погрешностью)."
   ]
  },
  {
   "cell_type": "markdown",
   "id": "099435ce",
   "metadata": {},
   "source": [
    "### Посторение оценки выборочной автокорреляции ВР несколькими способами:"
   ]
  },
  {
   "cell_type": "code",
   "execution_count": 16,
   "id": "37094f91",
   "metadata": {},
   "outputs": [
    {
     "data": {
      "image/png": "[encoded data removed]",
      "text/plain": [
       "<Figure size 432x288 with 1 Axes>"
      ]
     },
     "execution_count": 16,
     "metadata": {},
     "output_type": "execute_result"
    },
    {
     "data": {
      "image/png": "[encoded data removed]",
      "text/plain": [
       "<Figure size 432x288 with 1 Axes>"
      ]
     },
     "metadata": {
      "needs_background": "light"
     },
     "output_type": "display_data"
    }
   ],
   "source": [
    "plot_acf(X[0:20])"
   ]
  },
  {
   "cell_type": "code",
   "execution_count": 31,
   "id": "9cd9bc3c",
   "metadata": {},
   "outputs": [],
   "source": [
    "X_cor = (np.correlate(X[0:21], X[0:21], mode = 'full'))"
   ]
  },
  {
   "cell_type": "code",
   "execution_count": 33,
   "id": "d8999f80",
   "metadata": {},
   "outputs": [
    {
     "data": {
      "text/plain": [
       "[<matplotlib.lines.Line2D at 0x1f02e18c640>]"
      ]
     },
     "execution_count": 33,
     "metadata": {},
     "output_type": "execute_result"
    },
    {
     "data": {
      "image/png": "[encoded data removed]",
      "text/plain": [
       "<Figure size 432x288 with 1 Axes>"
      ]
     },
     "metadata": {
      "needs_background": "light"
     },
     "output_type": "display_data"
    }
   ],
   "source": [
    "l = [i for i in range(41)]\n",
    "plt.plot(l, X_cor)"
   ]
  },
  {
   "cell_type": "code",
   "execution_count": 34,
   "id": "fa451442",
   "metadata": {},
   "outputs": [],
   "source": [
    "def Sum(k, i, X, Y, l):\n",
    "    sum = 0\n",
    "    for j in range(k):\n",
    "        sum += (X[j] * Y[j+l])**i\n",
    "    return sum"
   ]
  },
  {
   "cell_type": "code",
   "execution_count": 35,
   "id": "8bf55022",
   "metadata": {},
   "outputs": [],
   "source": [
    "N = 10000"
   ]
  },
  {
   "cell_type": "code",
   "execution_count": 37,
   "id": "e4393a53",
   "metadata": {},
   "outputs": [],
   "source": [
    "def autocorr(X, l):\n",
    "    N = len(X)\n",
    "    r = ((N - l) * Sum(N - l, 1, X, X, l) - Sum(N - l, 1, X, np.ones(N), 0) * Sum(N - l, 1, np.ones(N), X, l)) / ( ( (N - l) * Sum(N - l, 2, X, np.ones(N), 0) - (Sum(N - l, 1, X, np.ones(N), 0))**2 )**0.5 * ( (N - l) * Sum(N - l, 2, np.ones(N), X, l) - (Sum(N - l, 1, np.ones(N), X, l))**2 )**0.5 )\n",
    "    return r"
   ]
  },
  {
   "cell_type": "code",
   "execution_count": 41,
   "id": "0300c711",
   "metadata": {},
   "outputs": [],
   "source": [
    "array = [] \n",
    "for l in range(20):\n",
    "    array.append(autocorr(X, l))    "
   ]
  },
  {
   "cell_type": "code",
   "execution_count": 42,
   "id": "3c62153a",
   "metadata": {},
   "outputs": [
    {
     "name": "stdout",
     "output_type": "stream",
     "text": [
      "[1.0000000000000002, -0.008468510107758858, 0.026359088220853456, -0.00801198130590372, -0.022368197446472598, 0.014955012723893699, -0.007185680267438552, 0.009319578874511925, 0.001477746671896968, -0.014139205956595123, -9.910454123757706e-05, 0.003967776224624844, 0.01044067940384572, 0.003709033213549781, 0.0006811830083862763, 0.00207630357818028, -0.001262090862369792, -0.010412753622470183, 0.0015137703886228852, 0.000198823966514378]\n"
     ]
    }
   ],
   "source": [
    "print (array)"
   ]
  },
  {
   "cell_type": "code",
   "execution_count": 44,
   "id": "e9246efb",
   "metadata": {},
   "outputs": [
    {
     "data": {
      "text/plain": [
       "[<matplotlib.lines.Line2D at 0x1f02e23d1c0>]"
      ]
     },
     "execution_count": 44,
     "metadata": {},
     "output_type": "execute_result"
    },
    {
     "data": {
      "image/png": "[encoded data removed]",
      "text/plain": [
       "<Figure size 432x288 with 1 Axes>"
      ]
     },
     "metadata": {
      "needs_background": "light"
     },
     "output_type": "display_data"
    }
   ],
   "source": [
    "plt.plot(array)"
   ]
  },
  {
   "cell_type": "markdown",
   "id": "2b61adab",
   "metadata": {},
   "source": [
    "### Функция:"
   ]
  },
  {
   "cell_type": "code",
   "execution_count": 70,
   "id": "fe59bc9f",
   "metadata": {},
   "outputs": [],
   "source": [
    "def analysVR (X):\n",
    "    M = np.mean(X)\n",
    "    D = np.var(X)\n",
    "    A = skew(X)\n",
    "    E = kurtosis(X, fisher = False)\n",
    "    print ('Мат. ожидание:', M)\n",
    "    print ('Дисперсия:', D)\n",
    "    print ('Ассиметрия:', A)\n",
    "    print ('Эксцесс:', E)\n",
    "    plot_acf(X[0:20])"
   ]
  },
  {
   "cell_type": "markdown",
   "id": "6071fbcb",
   "metadata": {},
   "source": [
    "###  Работа с mat-файлом, 12 Вариант"
   ]
  },
  {
   "cell_type": "code",
   "execution_count": 77,
   "id": "5f4ba557",
   "metadata": {},
   "outputs": [],
   "source": [
    "Xmat = h5py.File(r'C:\\Users\\Морозова Маргарита\\Downloads\\12.mat') \n",
    "Xmat = Xmat.get('z12') \n",
    "Xmat = np.array(Xmat)"
   ]
  },
  {
   "cell_type": "code",
   "execution_count": 78,
   "id": "c33e506f",
   "metadata": {},
   "outputs": [
    {
     "name": "stdout",
     "output_type": "stream",
     "text": [
      "Мат. ожидание: 0.0012860710384378082\n",
      "Дисперсия: 0.9952239990699998\n",
      "Ассиметрия: [0.31293065]\n",
      "Эксцесс: [2.40643843]\n"
     ]
    },
    {
     "data": {
      "image/png": "[encoded data removed]",
      "text/plain": [
       "<Figure size 432x288 with 1 Axes>"
      ]
     },
     "metadata": {
      "needs_background": "light"
     },
     "output_type": "display_data"
    }
   ],
   "source": [
    "analysVR (Xmat)"
   ]
  },
  {
   "cell_type": "markdown",
   "id": "10d4a059",
   "metadata": {},
   "source": []
  }
 ],
 "metadata": {
  "kernelspec": {
   "display_name": "Python 3 (ipykernel)",
   "language": "python",
   "name": "python3"
  },
  "language_info": {
   "codemirror_mode": {
    "name": "ipython",
    "version": 3
   },
   "file_extension": ".py",
   "mimetype": "text/x-python",
   "name": "python",
   "nbconvert_exporter": "python",
   "pygments_lexer": "ipython3",
   "version": "3.9.8"
  }
 },
 "nbformat": 4,
 "nbformat_minor": 5
}
